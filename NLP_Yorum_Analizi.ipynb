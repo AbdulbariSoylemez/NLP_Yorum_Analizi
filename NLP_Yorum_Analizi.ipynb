{
 "cells": [
  {
   "cell_type": "code",
   "execution_count": 1,
   "id": "c374e4fd",
   "metadata": {},
   "outputs": [],
   "source": [
    "import pandas as pd\n",
    "import numpy as np\n",
    "import matplotlib.pyplot as plt\n",
    "import nltk # Metin verileri üzerinde dil analizi, metin temizleme, kelime frekansı hesaplama, kelime dağarcığı oluşturma gibi NLP işlemlerini gerçekleştirmek için kullanılır.\n",
    "import re #Metin içinde desenleri aramak, eşleşen desenleri bulmak, metinleri bölümlere ayırmak ve metinleri değiştirmek \n",
    "from sklearn.feature_extraction.text import CountVectorizer  # Metin verilerini sayısal özelliklere dönüştürmek için kullanılan bir sınıftır.\n",
    "from sklearn.ensemble import RandomForestClassifier # birçok karar ağacının bir araya gelerek oluşturduğu bir sınıflandırma veya regresyon modelidir.\n",
    "from sklearn.metrics import roc_auc_score # Sınıflandırma modelinin performansını ölçmek için kullanılan bir metriktir\n",
    "from bs4 import BeautifulSoup # HTML ve XML gibi belgeleri analiz etmek ve çıkarımlar yapmak için kullanılan bir kütüphanedir\n",
    "from sklearn.model_selection import train_test_split # Veri kümesini eğitim ve test alt kümelerine ayırmak için kullanılan bir fonksiyondur\n",
    "from nltk.corpus import stopwords # Bu kütüphane, dilbilgisi, bağlaçlar, zamirler gibi yaygın kullanılan ancak genellikle metin analizi açısından önemsiz kabul edilen kelimeleri içerir."
   ]
  },
  {
   "cell_type": "code",
   "execution_count": 2,
   "id": "9a8d57d2",
   "metadata": {},
   "outputs": [],
   "source": [
    "df=pd.read_csv(\"NLPlabeledData.tsv\",delimiter=\"\\t\",quoting=3)"
   ]
  },
  {
   "cell_type": "code",
   "execution_count": 3,
   "id": "ac2e2674",
   "metadata": {},
   "outputs": [
    {
     "data": {
      "text/html": [
       "<div>\n",
       "<style scoped>\n",
       "    .dataframe tbody tr th:only-of-type {\n",
       "        vertical-align: middle;\n",
       "    }\n",
       "\n",
       "    .dataframe tbody tr th {\n",
       "        vertical-align: top;\n",
       "    }\n",
       "\n",
       "    .dataframe thead th {\n",
       "        text-align: right;\n",
       "    }\n",
       "</style>\n",
       "<table border=\"1\" class=\"dataframe\">\n",
       "  <thead>\n",
       "    <tr style=\"text-align: right;\">\n",
       "      <th></th>\n",
       "      <th>id</th>\n",
       "      <th>sentiment</th>\n",
       "      <th>review</th>\n",
       "    </tr>\n",
       "  </thead>\n",
       "  <tbody>\n",
       "    <tr>\n",
       "      <th>0</th>\n",
       "      <td>\"5814_8\"</td>\n",
       "      <td>1</td>\n",
       "      <td>\"With all this stuff going down at the moment ...</td>\n",
       "    </tr>\n",
       "    <tr>\n",
       "      <th>1</th>\n",
       "      <td>\"2381_9\"</td>\n",
       "      <td>1</td>\n",
       "      <td>\"\\\"The Classic War of the Worlds\\\" by Timothy ...</td>\n",
       "    </tr>\n",
       "    <tr>\n",
       "      <th>2</th>\n",
       "      <td>\"7759_3\"</td>\n",
       "      <td>0</td>\n",
       "      <td>\"The film starts with a manager (Nicholas Bell...</td>\n",
       "    </tr>\n",
       "    <tr>\n",
       "      <th>3</th>\n",
       "      <td>\"3630_4\"</td>\n",
       "      <td>0</td>\n",
       "      <td>\"It must be assumed that those who praised thi...</td>\n",
       "    </tr>\n",
       "    <tr>\n",
       "      <th>4</th>\n",
       "      <td>\"9495_8\"</td>\n",
       "      <td>1</td>\n",
       "      <td>\"Superbly trashy and wondrously unpretentious ...</td>\n",
       "    </tr>\n",
       "  </tbody>\n",
       "</table>\n",
       "</div>"
      ],
      "text/plain": [
       "         id  sentiment                                             review\n",
       "0  \"5814_8\"          1  \"With all this stuff going down at the moment ...\n",
       "1  \"2381_9\"          1  \"\\\"The Classic War of the Worlds\\\" by Timothy ...\n",
       "2  \"7759_3\"          0  \"The film starts with a manager (Nicholas Bell...\n",
       "3  \"3630_4\"          0  \"It must be assumed that those who praised thi...\n",
       "4  \"9495_8\"          1  \"Superbly trashy and wondrously unpretentious ..."
      ]
     },
     "execution_count": 3,
     "metadata": {},
     "output_type": "execute_result"
    }
   ],
   "source": [
    "df.head()"
   ]
  },
  {
   "cell_type": "markdown",
   "id": "d1abcb60",
   "metadata": {},
   "source": [
    "###### IMDB Filim yorumlarını ele alarak olumlu yada olumsuz bir cumle olup olmadığına gösteren bir verimiz var  biz bu verileri doğal dil işleme algoritması ile eğitip test edecez"
   ]
  },
  {
   "cell_type": "code",
   "execution_count": 4,
   "id": "f7299058",
   "metadata": {},
   "outputs": [
    {
     "data": {
      "text/plain": [
       "(25000, 3)"
      ]
     },
     "execution_count": 4,
     "metadata": {},
     "output_type": "execute_result"
    }
   ],
   "source": [
    "df.shape # veri setimizin boyutuna bakalım "
   ]
  },
  {
   "cell_type": "code",
   "execution_count": 5,
   "id": "5112968a",
   "metadata": {},
   "outputs": [
    {
     "name": "stdout",
     "output_type": "stream",
     "text": [
      "<class 'pandas.core.frame.DataFrame'>\n",
      "RangeIndex: 25000 entries, 0 to 24999\n",
      "Data columns (total 3 columns):\n",
      " #   Column     Non-Null Count  Dtype \n",
      "---  ------     --------------  ----- \n",
      " 0   id         25000 non-null  object\n",
      " 1   sentiment  25000 non-null  int64 \n",
      " 2   review     25000 non-null  object\n",
      "dtypes: int64(1), object(2)\n",
      "memory usage: 586.1+ KB\n"
     ]
    }
   ],
   "source": [
    "df.info() # verilerimiz hakında biraz bilgi edinelim "
   ]
  },
  {
   "cell_type": "code",
   "execution_count": 6,
   "id": "c2515c92",
   "metadata": {},
   "outputs": [
    {
     "data": {
      "text/plain": [
       "id           0\n",
       "sentiment    0\n",
       "review       0\n",
       "dtype: int64"
      ]
     },
     "execution_count": 6,
     "metadata": {},
     "output_type": "execute_result"
    }
   ],
   "source": [
    "df.isnull().sum() # böş değerlerimizin olup olmadığına bakalım"
   ]
  },
  {
   "cell_type": "code",
   "execution_count": 7,
   "id": "8e4f2b86",
   "metadata": {},
   "outputs": [],
   "source": [
    "colum=[\"id\",\"duygu_durumunu\",\"yorum\"]\n",
    "df.columns=colum # dahada anlaşılması için değişkenlerin TR yazıyorum "
   ]
  },
  {
   "cell_type": "code",
   "execution_count": 8,
   "id": "da029421",
   "metadata": {},
   "outputs": [
    {
     "data": {
      "text/html": [
       "<div>\n",
       "<style scoped>\n",
       "    .dataframe tbody tr th:only-of-type {\n",
       "        vertical-align: middle;\n",
       "    }\n",
       "\n",
       "    .dataframe tbody tr th {\n",
       "        vertical-align: top;\n",
       "    }\n",
       "\n",
       "    .dataframe thead th {\n",
       "        text-align: right;\n",
       "    }\n",
       "</style>\n",
       "<table border=\"1\" class=\"dataframe\">\n",
       "  <thead>\n",
       "    <tr style=\"text-align: right;\">\n",
       "      <th></th>\n",
       "      <th>id</th>\n",
       "      <th>duygu_durumunu</th>\n",
       "      <th>yorum</th>\n",
       "    </tr>\n",
       "  </thead>\n",
       "  <tbody>\n",
       "    <tr>\n",
       "      <th>0</th>\n",
       "      <td>\"5814_8\"</td>\n",
       "      <td>1</td>\n",
       "      <td>\"With all this stuff going down at the moment ...</td>\n",
       "    </tr>\n",
       "    <tr>\n",
       "      <th>1</th>\n",
       "      <td>\"2381_9\"</td>\n",
       "      <td>1</td>\n",
       "      <td>\"\\\"The Classic War of the Worlds\\\" by Timothy ...</td>\n",
       "    </tr>\n",
       "    <tr>\n",
       "      <th>2</th>\n",
       "      <td>\"7759_3\"</td>\n",
       "      <td>0</td>\n",
       "      <td>\"The film starts with a manager (Nicholas Bell...</td>\n",
       "    </tr>\n",
       "    <tr>\n",
       "      <th>3</th>\n",
       "      <td>\"3630_4\"</td>\n",
       "      <td>0</td>\n",
       "      <td>\"It must be assumed that those who praised thi...</td>\n",
       "    </tr>\n",
       "    <tr>\n",
       "      <th>4</th>\n",
       "      <td>\"9495_8\"</td>\n",
       "      <td>1</td>\n",
       "      <td>\"Superbly trashy and wondrously unpretentious ...</td>\n",
       "    </tr>\n",
       "  </tbody>\n",
       "</table>\n",
       "</div>"
      ],
      "text/plain": [
       "         id  duygu_durumunu                                              yorum\n",
       "0  \"5814_8\"               1  \"With all this stuff going down at the moment ...\n",
       "1  \"2381_9\"               1  \"\\\"The Classic War of the Worlds\\\" by Timothy ...\n",
       "2  \"7759_3\"               0  \"The film starts with a manager (Nicholas Bell...\n",
       "3  \"3630_4\"               0  \"It must be assumed that those who praised thi...\n",
       "4  \"9495_8\"               1  \"Superbly trashy and wondrously unpretentious ..."
      ]
     },
     "execution_count": 8,
     "metadata": {},
     "output_type": "execute_result"
    }
   ],
   "source": [
    "df.head()"
   ]
  },
  {
   "cell_type": "code",
   "execution_count": 9,
   "id": "17dbb153",
   "metadata": {},
   "outputs": [
    {
     "name": "stderr",
     "output_type": "stream",
     "text": [
      "[nltk_data] Downloading package stopwords to\n",
      "[nltk_data]     /Users/abdulbarisoylemez/nltk_data...\n",
      "[nltk_data]   Package stopwords is already up-to-date!\n"
     ]
    },
    {
     "data": {
      "text/plain": [
       "True"
      ]
     },
     "execution_count": 9,
     "metadata": {},
     "output_type": "execute_result"
    }
   ],
   "source": [
    "nltk.download(\"stopwords\")  # Metin analizi açısından önemsiz kabul edilen kelimeleri temizlemek için yüklüyoruz\n"
   ]
  },
  {
   "cell_type": "code",
   "execution_count": 10,
   "id": "506f7b53",
   "metadata": {},
   "outputs": [
    {
     "data": {
      "text/plain": [
       "'\"With all this stuff going down at the moment with MJ i\\'ve started listening to his music, watching the odd documentary here and there, watched The Wiz and watched Moonwalker again. Maybe i just want to get a certain insight into this guy who i thought was really cool in the eighties just to maybe make up my mind whether he is guilty or innocent. Moonwalker is part biography, part feature film which i remember going to see at the cinema when it was originally released. Some of it has subtle messages about MJ\\'s feeling towards the press and also the obvious message of drugs are bad m\\'kay.<br /><br />Visually impressive but of course this is all about Michael Jackson so unless you remotely like MJ in anyway then you are going to hate this and find it boring. Some may call MJ an egotist for consenting to the making of this movie BUT MJ and most of his fans would say that he made it for the fans which if true is really nice of him.<br /><br />The actual feature film bit when it finally starts is only on for 20 minutes or so excluding the Smooth Criminal sequence and Joe Pesci is convincing as a psychopathic all powerful drug lord. Why he wants MJ dead so bad is beyond me. Because MJ overheard his plans? Nah, Joe Pesci\\'s character ranted that he wanted people to know it is he who is supplying drugs etc so i dunno, maybe he just hates MJ\\'s music.<br /><br />Lots of cool things in this like MJ turning into a car and a robot and the whole Speed Demon sequence. Also, the director must have had the patience of a saint when it came to filming the kiddy Bad sequence as usually directors hate working with one kid let alone a whole bunch of them performing a complex dance scene.<br /><br />Bottom line, this movie is for people who like MJ on one level or another (which i think is most people). If not, then stay away. It does try and give off a wholesome message and ironically MJ\\'s bestest buddy in this movie is a girl! Michael Jackson is truly one of the most talented people ever to grace this planet but is he guilty? Well, with all the attention i\\'ve gave this subject....hmmm well i don\\'t know because people can be different behind closed doors, i know this for a fact. He is either an extremely nice but stupid guy or one of the most sickest liars. I hope he is not the latter.\"'"
      ]
     },
     "execution_count": 10,
     "metadata": {},
     "output_type": "execute_result"
    }
   ],
   "source": [
    "örnek_yorum=df.yorum[0] # ilk yorumumuzu alalım ve veriyi işlenecek hale getirelim \n",
    "öy=örnek_yorum\n",
    "öy"
   ]
  },
  {
   "cell_type": "code",
   "execution_count": 11,
   "id": "ee8d6193",
   "metadata": {},
   "outputs": [
    {
     "data": {
      "text/plain": [
       "'\"With all this stuff going down at the moment with MJ i\\'ve started listening to his music, watching the odd documentary here and there, watched The Wiz and watched Moonwalker again. Maybe i just want to get a certain insight into this guy who i thought was really cool in the eighties just to maybe make up my mind whether he is guilty or innocent. Moonwalker is part biography, part feature film which i remember going to see at the cinema when it was originally released. Some of it has subtle messages about MJ\\'s feeling towards the press and also the obvious message of drugs are bad m\\'kay.Visually impressive but of course this is all about Michael Jackson so unless you remotely like MJ in anyway then you are going to hate this and find it boring. Some may call MJ an egotist for consenting to the making of this movie BUT MJ and most of his fans would say that he made it for the fans which if true is really nice of him.The actual feature film bit when it finally starts is only on for 20 minutes or so excluding the Smooth Criminal sequence and Joe Pesci is convincing as a psychopathic all powerful drug lord. Why he wants MJ dead so bad is beyond me. Because MJ overheard his plans? Nah, Joe Pesci\\'s character ranted that he wanted people to know it is he who is supplying drugs etc so i dunno, maybe he just hates MJ\\'s music.Lots of cool things in this like MJ turning into a car and a robot and the whole Speed Demon sequence. Also, the director must have had the patience of a saint when it came to filming the kiddy Bad sequence as usually directors hate working with one kid let alone a whole bunch of them performing a complex dance scene.Bottom line, this movie is for people who like MJ on one level or another (which i think is most people). If not, then stay away. It does try and give off a wholesome message and ironically MJ\\'s bestest buddy in this movie is a girl! Michael Jackson is truly one of the most talented people ever to grace this planet but is he guilty? Well, with all the attention i\\'ve gave this subject....hmmm well i don\\'t know because people can be different behind closed doors, i know this for a fact. He is either an extremely nice but stupid guy or one of the most sickest liars. I hope he is not the latter.\"'"
      ]
     },
     "execution_count": 11,
     "metadata": {},
     "output_type": "execute_result"
    }
   ],
   "source": [
    "öy=BeautifulSoup(öy).get_text() # HTML tagları temzilemek için kulandık\n",
    "öy"
   ]
  },
  {
   "cell_type": "code",
   "execution_count": 12,
   "id": "cef7efc1",
   "metadata": {},
   "outputs": [
    {
     "data": {
      "text/plain": [
       "'\"                                                      \\'                                 ,                                            ,                                             .                                                                                                                                                                      .                             ,                                                                                              .                                        \\'                                                                           \\'   .                                                                                                                                                               .                                                                                                                                                                              .                                                                  20                                                                                                                          .                                         .                               ?    ,          \\'                                                                                               ,                       \\'       .                                                                                                     .     ,                                                                                                                                                                                                                  .           ,                                                              (                            ).       ,               .                                                               \\'                                       !                                                                                                    ?     ,                         \\'                    ....               \\'                                                          ,                       .                                                                               .                            .\"'"
      ]
     },
     "execution_count": 12,
     "metadata": {},
     "output_type": "execute_result"
    }
   ],
   "source": [
    "anlamsız_karakterler=re.sub(\"[a-zA-Z]\",\" \",öy) # verimiz de olan anlamsız karekterler \n",
    "anlamsız_karakterler "
   ]
  },
  {
   "cell_type": "markdown",
   "id": "acc2f133",
   "metadata": {},
   "source": [
    "##### şimdi bu anlamsız karekterleri çıkartalım"
   ]
  },
  {
   "cell_type": "code",
   "execution_count": 13,
   "id": "a855e3fe",
   "metadata": {},
   "outputs": [
    {
     "data": {
      "text/plain": [
       "' With all this stuff going down at the moment with MJ i ve started listening to his music  watching the odd documentary here and there  watched The Wiz and watched Moonwalker again  Maybe i just want to get a certain insight into this guy who i thought was really cool in the eighties just to maybe make up my mind whether he is guilty or innocent  Moonwalker is part biography  part feature film which i remember going to see at the cinema when it was originally released  Some of it has subtle messages about MJ s feeling towards the press and also the obvious message of drugs are bad m kay Visually impressive but of course this is all about Michael Jackson so unless you remotely like MJ in anyway then you are going to hate this and find it boring  Some may call MJ an egotist for consenting to the making of this movie BUT MJ and most of his fans would say that he made it for the fans which if true is really nice of him The actual feature film bit when it finally starts is only on for    minutes or so excluding the Smooth Criminal sequence and Joe Pesci is convincing as a psychopathic all powerful drug lord  Why he wants MJ dead so bad is beyond me  Because MJ overheard his plans  Nah  Joe Pesci s character ranted that he wanted people to know it is he who is supplying drugs etc so i dunno  maybe he just hates MJ s music Lots of cool things in this like MJ turning into a car and a robot and the whole Speed Demon sequence  Also  the director must have had the patience of a saint when it came to filming the kiddy Bad sequence as usually directors hate working with one kid let alone a whole bunch of them performing a complex dance scene Bottom line  this movie is for people who like MJ on one level or another  which i think is most people   If not  then stay away  It does try and give off a wholesome message and ironically MJ s bestest buddy in this movie is a girl  Michael Jackson is truly one of the most talented people ever to grace this planet but is he guilty  Well  with all the attention i ve gave this subject    hmmm well i don t know because people can be different behind closed doors  i know this for a fact  He is either an extremely nice but stupid guy or one of the most sickest liars  I hope he is not the latter  '"
      ]
     },
     "execution_count": 13,
     "metadata": {},
     "output_type": "execute_result"
    }
   ],
   "source": [
    "öy=re.sub(\"[^a-zA-Z]\",\" \",öy) # [^a-zA-Z] => a dan z ye ve A dan Z kadar olan kelimler alınsın dışındakiler atılsın\n",
    "öy"
   ]
  },
  {
   "cell_type": "code",
   "execution_count": 14,
   "id": "60c2a93b",
   "metadata": {},
   "outputs": [
    {
     "data": {
      "text/plain": [
       "' with all this stuff going down at the moment with mj i ve started listening to his music  watching the odd documentary here and there  watched the wiz and watched moonwalker again  maybe i just want to get a certain insight into this guy who i thought was really cool in the eighties just to maybe make up my mind whether he is guilty or innocent  moonwalker is part biography  part feature film which i remember going to see at the cinema when it was originally released  some of it has subtle messages about mj s feeling towards the press and also the obvious message of drugs are bad m kay visually impressive but of course this is all about michael jackson so unless you remotely like mj in anyway then you are going to hate this and find it boring  some may call mj an egotist for consenting to the making of this movie but mj and most of his fans would say that he made it for the fans which if true is really nice of him the actual feature film bit when it finally starts is only on for    minutes or so excluding the smooth criminal sequence and joe pesci is convincing as a psychopathic all powerful drug lord  why he wants mj dead so bad is beyond me  because mj overheard his plans  nah  joe pesci s character ranted that he wanted people to know it is he who is supplying drugs etc so i dunno  maybe he just hates mj s music lots of cool things in this like mj turning into a car and a robot and the whole speed demon sequence  also  the director must have had the patience of a saint when it came to filming the kiddy bad sequence as usually directors hate working with one kid let alone a whole bunch of them performing a complex dance scene bottom line  this movie is for people who like mj on one level or another  which i think is most people   if not  then stay away  it does try and give off a wholesome message and ironically mj s bestest buddy in this movie is a girl  michael jackson is truly one of the most talented people ever to grace this planet but is he guilty  well  with all the attention i ve gave this subject    hmmm well i don t know because people can be different behind closed doors  i know this for a fact  he is either an extremely nice but stupid guy or one of the most sickest liars  i hope he is not the latter  '"
      ]
     },
     "execution_count": 14,
     "metadata": {},
     "output_type": "execute_result"
    }
   ],
   "source": [
    "öy=öy.lower() # makine öğrenmesinde aynı harfin buyük kücük oluşu farklı sonuclar çıkartacaktır bu yuzden bütün hafleri küçük yapıyoruz\n",
    "öy"
   ]
  },
  {
   "cell_type": "markdown",
   "id": "6bc2e7d7",
   "metadata": {},
   "source": [
    "#####  şimdi stopwords kelimeleri ( yani , the , is , an, bibi kelimleri  ) yapay zeka tarafından kulnılmsını istemiyoruz  bunun için kelimleri ayırıyoruz  bunu için split metodu kulanılır \n"
   ]
  },
  {
   "cell_type": "code",
   "execution_count": 15,
   "id": "5f2ee4c8",
   "metadata": {},
   "outputs": [],
   "source": [
    "öy=öy.split()"
   ]
  },
  {
   "cell_type": "code",
   "execution_count": 16,
   "id": "a2e3bcc9",
   "metadata": {},
   "outputs": [
    {
     "name": "stdout",
     "output_type": "stream",
     "text": [
      "['with', 'all', 'this', 'stuff', 'going', 'down', 'at', 'the', 'moment', 'with', 'mj', 'i', 've', 'started', 'listening', 'to', 'his', 'music', 'watching', 'the', 'odd', 'documentary', 'here', 'and', 'there', 'watched', 'the', 'wiz', 'and', 'watched', 'moonwalker', 'again', 'maybe', 'i', 'just', 'want', 'to', 'get', 'a', 'certain', 'insight', 'into', 'this', 'guy', 'who', 'i', 'thought', 'was', 'really', 'cool', 'in', 'the', 'eighties', 'just', 'to', 'maybe', 'make', 'up', 'my', 'mind', 'whether', 'he', 'is', 'guilty', 'or', 'innocent', 'moonwalker', 'is', 'part', 'biography', 'part', 'feature', 'film', 'which', 'i', 'remember', 'going', 'to', 'see', 'at', 'the', 'cinema', 'when', 'it', 'was', 'originally', 'released', 'some', 'of', 'it', 'has', 'subtle', 'messages', 'about', 'mj', 's', 'feeling', 'towards', 'the', 'press', 'and', 'also', 'the', 'obvious', 'message', 'of', 'drugs', 'are', 'bad', 'm', 'kay', 'visually', 'impressive', 'but', 'of', 'course', 'this', 'is', 'all', 'about', 'michael', 'jackson', 'so', 'unless', 'you', 'remotely', 'like', 'mj', 'in', 'anyway', 'then', 'you', 'are', 'going', 'to', 'hate', 'this', 'and', 'find', 'it', 'boring', 'some', 'may', 'call', 'mj', 'an', 'egotist', 'for', 'consenting', 'to', 'the', 'making', 'of', 'this', 'movie', 'but', 'mj', 'and', 'most', 'of', 'his', 'fans', 'would', 'say', 'that', 'he', 'made', 'it', 'for', 'the', 'fans', 'which', 'if', 'true', 'is', 'really', 'nice', 'of', 'him', 'the', 'actual', 'feature', 'film', 'bit', 'when', 'it', 'finally', 'starts', 'is', 'only', 'on', 'for', 'minutes', 'or', 'so', 'excluding', 'the', 'smooth', 'criminal', 'sequence', 'and', 'joe', 'pesci', 'is', 'convincing', 'as', 'a', 'psychopathic', 'all', 'powerful', 'drug', 'lord', 'why', 'he', 'wants', 'mj', 'dead', 'so', 'bad', 'is', 'beyond', 'me', 'because', 'mj', 'overheard', 'his', 'plans', 'nah', 'joe', 'pesci', 's', 'character', 'ranted', 'that', 'he', 'wanted', 'people', 'to', 'know', 'it', 'is', 'he', 'who', 'is', 'supplying', 'drugs', 'etc', 'so', 'i', 'dunno', 'maybe', 'he', 'just', 'hates', 'mj', 's', 'music', 'lots', 'of', 'cool', 'things', 'in', 'this', 'like', 'mj', 'turning', 'into', 'a', 'car', 'and', 'a', 'robot', 'and', 'the', 'whole', 'speed', 'demon', 'sequence', 'also', 'the', 'director', 'must', 'have', 'had', 'the', 'patience', 'of', 'a', 'saint', 'when', 'it', 'came', 'to', 'filming', 'the', 'kiddy', 'bad', 'sequence', 'as', 'usually', 'directors', 'hate', 'working', 'with', 'one', 'kid', 'let', 'alone', 'a', 'whole', 'bunch', 'of', 'them', 'performing', 'a', 'complex', 'dance', 'scene', 'bottom', 'line', 'this', 'movie', 'is', 'for', 'people', 'who', 'like', 'mj', 'on', 'one', 'level', 'or', 'another', 'which', 'i', 'think', 'is', 'most', 'people', 'if', 'not', 'then', 'stay', 'away', 'it', 'does', 'try', 'and', 'give', 'off', 'a', 'wholesome', 'message', 'and', 'ironically', 'mj', 's', 'bestest', 'buddy', 'in', 'this', 'movie', 'is', 'a', 'girl', 'michael', 'jackson', 'is', 'truly', 'one', 'of', 'the', 'most', 'talented', 'people', 'ever', 'to', 'grace', 'this', 'planet', 'but', 'is', 'he', 'guilty', 'well', 'with', 'all', 'the', 'attention', 'i', 've', 'gave', 'this', 'subject', 'hmmm', 'well', 'i', 'don', 't', 'know', 'because', 'people', 'can', 'be', 'different', 'behind', 'closed', 'doors', 'i', 'know', 'this', 'for', 'a', 'fact', 'he', 'is', 'either', 'an', 'extremely', 'nice', 'but', 'stupid', 'guy', 'or', 'one', 'of', 'the', 'most', 'sickest', 'liars', 'i', 'hope', 'he', 'is', 'not', 'the', 'latter']\n"
     ]
    }
   ],
   "source": [
    "print(öy)"
   ]
  },
  {
   "cell_type": "code",
   "execution_count": 17,
   "id": "f533d637",
   "metadata": {},
   "outputs": [
    {
     "data": {
      "text/plain": [
       "437"
      ]
     },
     "execution_count": 17,
     "metadata": {},
     "output_type": "execute_result"
    }
   ],
   "source": [
    "len(öy) # bunu gösterme sebebim bi sornraki adımda stopword kulanarak azalacak anlamsız(algoritma için) kelimelerdir "
   ]
  },
  {
   "cell_type": "code",
   "execution_count": 18,
   "id": "4eeabb8b",
   "metadata": {},
   "outputs": [
    {
     "data": {
      "text/plain": [
       "['stuff',\n",
       " 'going',\n",
       " 'moment',\n",
       " 'mj',\n",
       " 'started',\n",
       " 'listening',\n",
       " 'music',\n",
       " 'watching',\n",
       " 'odd',\n",
       " 'documentary',\n",
       " 'watched',\n",
       " 'wiz',\n",
       " 'watched',\n",
       " 'moonwalker',\n",
       " 'maybe',\n",
       " 'want',\n",
       " 'get',\n",
       " 'certain',\n",
       " 'insight',\n",
       " 'guy',\n",
       " 'thought',\n",
       " 'really',\n",
       " 'cool',\n",
       " 'eighties',\n",
       " 'maybe',\n",
       " 'make',\n",
       " 'mind',\n",
       " 'whether',\n",
       " 'guilty',\n",
       " 'innocent',\n",
       " 'moonwalker',\n",
       " 'part',\n",
       " 'biography',\n",
       " 'part',\n",
       " 'feature',\n",
       " 'film',\n",
       " 'remember',\n",
       " 'going',\n",
       " 'see',\n",
       " 'cinema',\n",
       " 'originally',\n",
       " 'released',\n",
       " 'subtle',\n",
       " 'messages',\n",
       " 'mj',\n",
       " 'feeling',\n",
       " 'towards',\n",
       " 'press',\n",
       " 'also',\n",
       " 'obvious',\n",
       " 'message',\n",
       " 'drugs',\n",
       " 'bad',\n",
       " 'kay',\n",
       " 'visually',\n",
       " 'impressive',\n",
       " 'course',\n",
       " 'michael',\n",
       " 'jackson',\n",
       " 'unless',\n",
       " 'remotely',\n",
       " 'like',\n",
       " 'mj',\n",
       " 'anyway',\n",
       " 'going',\n",
       " 'hate',\n",
       " 'find',\n",
       " 'boring',\n",
       " 'may',\n",
       " 'call',\n",
       " 'mj',\n",
       " 'egotist',\n",
       " 'consenting',\n",
       " 'making',\n",
       " 'movie',\n",
       " 'mj',\n",
       " 'fans',\n",
       " 'would',\n",
       " 'say',\n",
       " 'made',\n",
       " 'fans',\n",
       " 'true',\n",
       " 'really',\n",
       " 'nice',\n",
       " 'actual',\n",
       " 'feature',\n",
       " 'film',\n",
       " 'bit',\n",
       " 'finally',\n",
       " 'starts',\n",
       " 'minutes',\n",
       " 'excluding',\n",
       " 'smooth',\n",
       " 'criminal',\n",
       " 'sequence',\n",
       " 'joe',\n",
       " 'pesci',\n",
       " 'convincing',\n",
       " 'psychopathic',\n",
       " 'powerful',\n",
       " 'drug',\n",
       " 'lord',\n",
       " 'wants',\n",
       " 'mj',\n",
       " 'dead',\n",
       " 'bad',\n",
       " 'beyond',\n",
       " 'mj',\n",
       " 'overheard',\n",
       " 'plans',\n",
       " 'nah',\n",
       " 'joe',\n",
       " 'pesci',\n",
       " 'character',\n",
       " 'ranted',\n",
       " 'wanted',\n",
       " 'people',\n",
       " 'know',\n",
       " 'supplying',\n",
       " 'drugs',\n",
       " 'etc',\n",
       " 'dunno',\n",
       " 'maybe',\n",
       " 'hates',\n",
       " 'mj',\n",
       " 'music',\n",
       " 'lots',\n",
       " 'cool',\n",
       " 'things',\n",
       " 'like',\n",
       " 'mj',\n",
       " 'turning',\n",
       " 'car',\n",
       " 'robot',\n",
       " 'whole',\n",
       " 'speed',\n",
       " 'demon',\n",
       " 'sequence',\n",
       " 'also',\n",
       " 'director',\n",
       " 'must',\n",
       " 'patience',\n",
       " 'saint',\n",
       " 'came',\n",
       " 'filming',\n",
       " 'kiddy',\n",
       " 'bad',\n",
       " 'sequence',\n",
       " 'usually',\n",
       " 'directors',\n",
       " 'hate',\n",
       " 'working',\n",
       " 'one',\n",
       " 'kid',\n",
       " 'let',\n",
       " 'alone',\n",
       " 'whole',\n",
       " 'bunch',\n",
       " 'performing',\n",
       " 'complex',\n",
       " 'dance',\n",
       " 'scene',\n",
       " 'bottom',\n",
       " 'line',\n",
       " 'movie',\n",
       " 'people',\n",
       " 'like',\n",
       " 'mj',\n",
       " 'one',\n",
       " 'level',\n",
       " 'another',\n",
       " 'think',\n",
       " 'people',\n",
       " 'stay',\n",
       " 'away',\n",
       " 'try',\n",
       " 'give',\n",
       " 'wholesome',\n",
       " 'message',\n",
       " 'ironically',\n",
       " 'mj',\n",
       " 'bestest',\n",
       " 'buddy',\n",
       " 'movie',\n",
       " 'girl',\n",
       " 'michael',\n",
       " 'jackson',\n",
       " 'truly',\n",
       " 'one',\n",
       " 'talented',\n",
       " 'people',\n",
       " 'ever',\n",
       " 'grace',\n",
       " 'planet',\n",
       " 'guilty',\n",
       " 'well',\n",
       " 'attention',\n",
       " 'gave',\n",
       " 'subject',\n",
       " 'hmmm',\n",
       " 'well',\n",
       " 'know',\n",
       " 'people',\n",
       " 'different',\n",
       " 'behind',\n",
       " 'closed',\n",
       " 'doors',\n",
       " 'know',\n",
       " 'fact',\n",
       " 'either',\n",
       " 'extremely',\n",
       " 'nice',\n",
       " 'stupid',\n",
       " 'guy',\n",
       " 'one',\n",
       " 'sickest',\n",
       " 'liars',\n",
       " 'hope',\n",
       " 'latter']"
      ]
     },
     "execution_count": 18,
     "metadata": {},
     "output_type": "execute_result"
    }
   ],
   "source": [
    "sword=set(stopwords.words(\"english\")) # ingiliz dilinde stopword olan kelimeleri sword a set etik ekledik \n",
    "öy=[w for w in öy if w not in sword]  # şimdi bunu bizim öy( örenk yorum ) da kaç tanesi ile ayı olmayanı alıyoruz \n",
    "öy"
   ]
  },
  {
   "cell_type": "code",
   "execution_count": 19,
   "id": "66f4ea98",
   "metadata": {},
   "outputs": [
    {
     "data": {
      "text/plain": [
       "219"
      ]
     },
     "execution_count": 19,
     "metadata": {},
     "output_type": "execute_result"
    }
   ],
   "source": [
    "len(öy) # stopword kulanarak algoritma için anlamsız olan kelimelerin hepsi çıkartıldı bir nevi yarıya kadar düştü "
   ]
  },
  {
   "cell_type": "markdown",
   "id": "8b9abe98",
   "metadata": {},
   "source": [
    "### şimdi bu işlemleri bütün yorumlar için gerçekleştirelim "
   ]
  },
  {
   "cell_type": "code",
   "execution_count": 20,
   "id": "6196be59",
   "metadata": {},
   "outputs": [],
   "source": [
    "def VerTem(yorum):\n",
    "    yorum=BeautifulSoup(yorum).get_text() #HTML tagları temzilemek için \n",
    "    yorum=re.sub(\"[^a-zA-Z]\",\" \",yorum) # Anlamsız karekterleri çıkarmak için\n",
    "    yorum=yorum.lower() # Her harfi küçük yazzlım\n",
    "    yorum=yorum.split() # stopword için her kelimeyi ayrı yazalım \n",
    "    sword=set(stopwords.words(\"english\")) # ingiliz dilinde stopword olan kelimeleri sword a set etik ekledik \n",
    "    yorum=[w for w in yorum if w not in sword] # verimizde stopword kelimeleri çıkartalım\n",
    "    return(\" \".join(yorum))"
   ]
  },
  {
   "cell_type": "markdown",
   "id": "94ce543d",
   "metadata": {},
   "source": [
    "#### şimdi fonkiyonu hayata geçirelim her yorum için"
   ]
  },
  {
   "cell_type": "code",
   "execution_count": 21,
   "id": "7a30b969",
   "metadata": {},
   "outputs": [
    {
     "name": "stderr",
     "output_type": "stream",
     "text": [
      "/Users/abdulbarisoylemez/opt/anaconda3/lib/python3.9/site-packages/bs4/__init__.py:435: MarkupResemblesLocatorWarning: The input looks more like a filename than markup. You may want to open this file and pass the filehandle into Beautiful Soup.\n",
      "  warnings.warn(\n"
     ]
    },
    {
     "name": "stdout",
     "output_type": "stream",
     "text": [
      "1000  tane yorum incelendi..\n",
      "2000  tane yorum incelendi..\n",
      "3000  tane yorum incelendi..\n",
      "4000  tane yorum incelendi..\n",
      "5000  tane yorum incelendi..\n",
      "6000  tane yorum incelendi..\n",
      "7000  tane yorum incelendi..\n",
      "8000  tane yorum incelendi..\n",
      "9000  tane yorum incelendi..\n",
      "10000  tane yorum incelendi..\n",
      "11000  tane yorum incelendi..\n",
      "12000  tane yorum incelendi..\n",
      "13000  tane yorum incelendi..\n",
      "14000  tane yorum incelendi..\n",
      "15000  tane yorum incelendi..\n",
      "16000  tane yorum incelendi..\n",
      "17000  tane yorum incelendi..\n",
      "18000  tane yorum incelendi..\n",
      "19000  tane yorum incelendi..\n",
      "20000  tane yorum incelendi..\n",
      "21000  tane yorum incelendi..\n",
      "22000  tane yorum incelendi..\n",
      "23000  tane yorum incelendi..\n",
      "24000  tane yorum incelendi..\n",
      "25000  tane yorum incelendi..\n"
     ]
    }
   ],
   "source": [
    "TumYor=[]   # boş bir tane liste oluşturduk\n",
    "\n",
    "for i in range(len(df[\"yorum\"])):\n",
    "    if (i+1)%1000==0:\n",
    "        print((i+1),\" tane yorum incelendi..\")  # işlem sayısını gösterecek \n",
    "    TumYor.append(VerTem(df[\"yorum\"][i])) # temizlenen veriyi yeni listeye ekliyoruz \n",
    "    "
   ]
  },
  {
   "cell_type": "markdown",
   "id": "51fba99c",
   "metadata": {},
   "source": [
    "###### Şimdi verilerimizi Eğitim ve Test olarak belirliyelim "
   ]
  },
  {
   "cell_type": "code",
   "execution_count": 22,
   "id": "aa753b0c",
   "metadata": {},
   "outputs": [],
   "source": [
    "x=TumYor    # temizlediğimiz tum yorumlar \n",
    "y=np.array(df[\"duygu_durumunu\"])   # yorumun olumsuz mu olumlu mu olduğu y değişkenine atıyoruz \n",
    "\n",
    "# train test split\n",
    "x_train, x_test, y_train, y_test = train_test_split(x, y, test_size=0.15, random_state=42)\n"
   ]
  },
  {
   "cell_type": "markdown",
   "id": "ea3ddde9",
   "metadata": {},
   "source": [
    "### BAG of WORD matrisi\n",
    "###### kelimelerin metinlerdeki geçme frekanslarına dayanan ve kelimeleri vektör olarak temsil eden en temel yöntemdir . Bu yöntem, NLP derslerinin her seviyesinde anlatılan ve anlaşılması oldukça kolay olan yaklaşımlardır , bu en temel anlamda yapay zeka metinleri anlamaz bunun yerine onun anlayacağı 1 ve 0 matrisine çevirecez "
   ]
  },
  {
   "cell_type": "code",
   "execution_count": 23,
   "id": "49da5efb",
   "metadata": {},
   "outputs": [],
   "source": [
    "countvector=CountVectorizer( max_features=5000) # bag of word boyutu 5000 yaptık "
   ]
  },
  {
   "cell_type": "code",
   "execution_count": 24,
   "id": "a93e64c6",
   "metadata": {},
   "outputs": [],
   "source": [
    "x_train=countvector.fit_transform(x_train)  # eğitim verilerimizi bag of word matrixine çeviriyoruz "
   ]
  },
  {
   "cell_type": "code",
   "execution_count": 25,
   "id": "eb759697",
   "metadata": {},
   "outputs": [
    {
     "data": {
      "text/plain": [
       "<21250x5000 sparse matrix of type '<class 'numpy.int64'>'\n",
       "\twith 1677632 stored elements in Compressed Sparse Row format>"
      ]
     },
     "execution_count": 25,
     "metadata": {},
     "output_type": "execute_result"
    }
   ],
   "source": [
    "x_train # yani <20000x5000 sparse matrix of type '<class 'numpy.int64'>' değişkeni bize sutun sayısı 5000 satır sayısı 20000 ve  tipi int olduğunu söyluyor "
   ]
  },
  {
   "cell_type": "code",
   "execution_count": 26,
   "id": "fe421472",
   "metadata": {},
   "outputs": [],
   "source": [
    "x_train=x_train.toarray() # fit işlemi için array e çeviriyoruz "
   ]
  },
  {
   "cell_type": "code",
   "execution_count": 27,
   "id": "480ce377",
   "metadata": {},
   "outputs": [
    {
     "data": {
      "text/plain": [
       "((21250, 5000), (21250,))"
      ]
     },
     "execution_count": 27,
     "metadata": {},
     "output_type": "execute_result"
    }
   ],
   "source": [
    "ytrain=y_train\n",
    "x_train.shape,ytrain.shape"
   ]
  },
  {
   "cell_type": "markdown",
   "id": "f0a6b8a9",
   "metadata": {},
   "source": [
    "###  Random forest modeli oluşturalım  ve fit edelim \n",
    "###### Random Forest modeli, birçok karar ağacının bir araya gelerek oluşturduğu bir makine öğrenmesi modelidir ve tahminlerin ortalamasını alarak yüksek performanslı ve genelleyici sonuçlar elde etmeyi amaçlar."
   ]
  },
  {
   "cell_type": "code",
   "execution_count": 28,
   "id": "6165ea9c",
   "metadata": {},
   "outputs": [
    {
     "data": {
      "text/plain": [
       "RandomForestClassifier()"
      ]
     },
     "execution_count": 28,
     "metadata": {},
     "output_type": "execute_result"
    }
   ],
   "source": [
    "model=RandomForestClassifier(n_estimators=100) #  n_estimators karar ağacı sayısını belirtir.\n",
    "model.fit(x_train,y_train) # modeli eğitiyoruz \n"
   ]
  },
  {
   "cell_type": "markdown",
   "id": "ace4a7c0",
   "metadata": {},
   "source": [
    "### şimdi sıra test datamızda "
   ]
  },
  {
   "cell_type": "code",
   "execution_count": 29,
   "id": "c0083c1e",
   "metadata": {},
   "outputs": [],
   "source": [
    "xx_test=countvector.transform(x_test) # test verilerimizi bag of word matrixine çeviriyoruz "
   ]
  },
  {
   "cell_type": "code",
   "execution_count": 30,
   "id": "0424150b",
   "metadata": {},
   "outputs": [
    {
     "data": {
      "text/plain": [
       "<3750x5000 sparse matrix of type '<class 'numpy.int64'>'\n",
       "\twith 297527 stored elements in Compressed Sparse Row format>"
      ]
     },
     "execution_count": 30,
     "metadata": {},
     "output_type": "execute_result"
    }
   ],
   "source": [
    "xx_test"
   ]
  },
  {
   "cell_type": "code",
   "execution_count": 31,
   "id": "94f5d350",
   "metadata": {},
   "outputs": [],
   "source": [
    "# test bag of woerd u matrixe çeviriyoruz \n",
    "xx_test = xx_test.toarray()"
   ]
  },
  {
   "cell_type": "code",
   "execution_count": 32,
   "id": "96316456",
   "metadata": {},
   "outputs": [
    {
     "data": {
      "text/plain": [
       "(3750, 5000)"
      ]
     },
     "execution_count": 32,
     "metadata": {},
     "output_type": "execute_result"
    }
   ],
   "source": [
    "xx_test.shape"
   ]
  },
  {
   "cell_type": "markdown",
   "id": "f55debf6",
   "metadata": {},
   "source": [
    "#### Predict kısımı\n",
    "\"predict\" terimi, bir modelin eğitim sürecinden sonra, yeni ve görülmemiş veriler üzerinde tahmin yapması anlamına gelir. Model, eğitim veri seti üzerinde öğrendiği desenleri kullanarak, girdi olarak verilen yeni veri noktaları için bir çıktı değeri veya sınıflandırma tahmini üretir."
   ]
  },
  {
   "cell_type": "code",
   "execution_count": 33,
   "id": "61af3cab",
   "metadata": {},
   "outputs": [],
   "source": [
    "testpredic=model.predict(xx_test)\n",
    "doğruluk=roc_auc_score(y_test,testpredic)"
   ]
  },
  {
   "cell_type": "code",
   "execution_count": 34,
   "id": "08bb6ec0",
   "metadata": {},
   "outputs": [
    {
     "name": "stdout",
     "output_type": "stream",
     "text": [
      "Doğruluk oranı : % 0.8511806252630782\n"
     ]
    }
   ],
   "source": [
    "print(\"Doğruluk oranı : %\",doğruluk)"
   ]
  },
  {
   "cell_type": "code",
   "execution_count": null,
   "id": "45f9951a",
   "metadata": {},
   "outputs": [],
   "source": []
  },
  {
   "cell_type": "code",
   "execution_count": null,
   "id": "2398889a",
   "metadata": {},
   "outputs": [],
   "source": []
  }
 ],
 "metadata": {
  "kernelspec": {
   "display_name": "Python 3 (ipykernel)",
   "language": "python",
   "name": "python3"
  },
  "language_info": {
   "codemirror_mode": {
    "name": "ipython",
    "version": 3
   },
   "file_extension": ".py",
   "mimetype": "text/x-python",
   "name": "python",
   "nbconvert_exporter": "python",
   "pygments_lexer": "ipython3",
   "version": "3.9.13"
  }
 },
 "nbformat": 4,
 "nbformat_minor": 5
}
